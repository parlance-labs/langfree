{
 "cells": [
  {
   "cell_type": "raw",
   "id": "33b4bd64-1cb6-4373-bb2c-265fea29502c",
   "metadata": {},
   "source": [
    "---\n",
    "skip_showdoc: true\n",
    "skip_exec: true\n",
    "---"
   ]
  },
  {
   "cell_type": "markdown",
   "id": "961f54c1-8eae-4ffa-af08-584e8612d198",
   "metadata": {},
   "source": [
    "# chatrecord\n",
    "> Tools for exporting chat related portions of Langchain runs."
   ]
  },
  {
   "cell_type": "code",
   "execution_count": null,
   "id": "38c02c61-7fe1-4dbc-b74c-bf11a64ca9e7",
   "metadata": {},
   "outputs": [],
   "source": [
    "#| default_exp chatrecord"
   ]
  },
  {
   "cell_type": "code",
   "execution_count": null,
   "id": "65cd47cc-3f52-4cfc-9efb-4dc6a6c61993",
   "metadata": {},
   "outputs": [],
   "source": [
    "#|export\n",
    "from typing import List, Iterable, Union\n",
    "from collections import Counter\n",
    "from pathlib import Path\n",
    "import pickle\n",
    "\n",
    "import pandas as pd\n",
    "from pydantic import BaseModel\n",
    "import langsmith\n",
    "from fastcore.foundation import first, L\n",
    "from fastcore.test import test_eq\n",
    "from langfree.runs import (get_runs_by_commit, \n",
    "                           get_params, get_functions,\n",
    "                          get_feedback)\n",
    "from langfree.transform import RunData\n",
    "from langsmith import Client"
   ]
  },
  {
   "cell_type": "code",
   "execution_count": null,
   "id": "2909e32e-3066-4e9e-877b-d87b6f35211f",
   "metadata": {},
   "outputs": [],
   "source": [
    "from nbdev.showdoc import show_doc"
   ]
  },
  {
   "cell_type": "code",
   "execution_count": null,
   "id": "4b15b45a-9739-4f41-b4d7-1512472ac7e7",
   "metadata": {},
   "outputs": [],
   "source": [
    "#|export\n",
    "class NoChatOpenAI(Exception):\n",
    "    def __init__(self, message, extra_data=None):\n",
    "        super().__init__(message)"
   ]
  },
  {
   "cell_type": "code",
   "execution_count": null,
   "id": "6efd7c50-2b56-4f2a-acbf-697cdf582e11",
   "metadata": {},
   "outputs": [],
   "source": [
    "#|export\n",
    "def get_nested_child_run(run):\n",
    "    \"Get the last nested `ChatOpenAI` run inside a Runnable Agent.\"\n",
    "    client = Client()\n",
    "    run = client.read_run(run_id=run.id, load_child_runs=True)\n",
    "    oai_children = []\n",
    "    for r in run.child_runs:\n",
    "        if r.name == 'RunnableAgent':\n",
    "            for c in r.child_runs:\n",
    "                if c.name == 'ChatOpenAI':\n",
    "                    oai_children.append(c)\n",
    "        if r.name == 'ChatOpenAI':\n",
    "            oai_children.append(r)\n",
    "    if not oai_children:\n",
    "        raise NoChatOpenAI(f'Not able to find ChatOpenAI child run from root run {run.id}')\n",
    "    return oai_children[-1]\n",
    "\n",
    "def get_child_chat_run(run):\n",
    "    \"Get the last child `ChatOpenAI` run.\"\n",
    "    client = Client()\n",
    "    if run.parent_run_id is not None:\n",
    "    # if run.execution_order != 1: # this is a child run, get the parent\n",
    "        run = client.read_run(run.parent_run_id)\n",
    "\n",
    "    crun = get_nested_child_run(run)\n",
    "    return run, crun"
   ]
  },
  {
   "cell_type": "code",
   "execution_count": null,
   "id": "7c314972-94a8-4730-8fac-7b8b8c2b05ac",
   "metadata": {},
   "outputs": [],
   "source": [
    "#|hide\n",
    "client = Client()\n",
    "_run_id = '98d1c463-bf25-46a1-90f2-a3a1b5e2fa3f'\n",
    "_root_run = client.read_run(_run_id)\n",
    "assert get_child_chat_run(_root_run)"
   ]
  },
  {
   "cell_type": "code",
   "execution_count": null,
   "id": "ae0841d1-6685-4203-b166-8188383b487e",
   "metadata": {},
   "outputs": [],
   "source": [
    "#|hide\n",
    "client = Client()\n",
    "_root_run = client.read_run('fbfd220a-c731-46a2-87b3-e64a477824f5')\n",
    "assert client.read_run(run_id=_root_run.id, load_child_runs=True)"
   ]
  },
  {
   "cell_type": "code",
   "execution_count": null,
   "id": "c7012b46-4c1b-442f-9d11-d6e2fc69c9d8",
   "metadata": {},
   "outputs": [],
   "source": [
    "#|export\n",
    "class ChatRecord(BaseModel):\n",
    "    \"A parsed run from LangSmith, focused on the `ChatOpenAI` run type.\"\n",
    "    child_run_id:str\n",
    "    child_run:RunData\n",
    "    child_url:Union[str,None] = None\n",
    "    parent_run_id:Union[str,None] = None\n",
    "    parent_url: Union[str,None] = None\n",
    "    total_tokens:Union[int, None]\n",
    "    prompt_tokens:Union[int, None]\n",
    "    completion_tokens:Union[int, None]\n",
    "    feedback: Union[List,None] = None\n",
    "    feedback_keys: Union[List,None] = None\n",
    "    tags: Union[List,None] = []\n",
    "    start_dt: Union[str, None] = None\n",
    "    function_defs: Union[List,None] = None\n",
    "    param_model_name: Union[str,None]= None\n",
    "    param_n: Union[int, None] = None\n",
    "    param_top_p: Union[int, None] = None\n",
    "    param_temp: Union[int, None] = None\n",
    "    param_presence_penalty: Union[int, None] = None\n",
    "    param_freq_penalty: Union[int, None] = None\n",
    "\n",
    "    @property\n",
    "    def flat_input(self): return self.child_run.flat_input\n",
    "    \n",
    "    @property\n",
    "    def flat_output(self): return self.child_run.flat_output\n",
    "\n",
    "    @classmethod\n",
    "    def from_run_id(cls, \n",
    "                    run_id:str # the run id to fetch and parse.\n",
    "                   ):\n",
    "        \"Collect information About A Run into a `ChatRecord`.\"\n",
    "        client = Client()\n",
    "        return cls.from_run(client.read_run(run_id=run_id))\n",
    "    \n",
    "    @classmethod\n",
    "    def from_run(cls, \n",
    "                 run:langsmith.schemas.Run # the run object to parse.\n",
    "                ):\n",
    "        \"Collect information About A Run into a `ChatRecord`.\"\n",
    "        run, crun = get_child_chat_run(run)\n",
    "    \n",
    "        if crun:\n",
    "            params = get_params(crun)\n",
    "            _feedback = get_feedback(run) # you must get feedback from the root\n",
    "            \n",
    "            return cls(child_run_id=str(crun.id),\n",
    "                       child_run=RunData.from_run_id(str(crun.id)),\n",
    "                       child_url=crun.url,\n",
    "                       parent_run_id=str(run.id) if run else None,\n",
    "                       parent_url=run.url if run else None,\n",
    "                       total_tokens=crun.total_tokens,\n",
    "                       prompt_tokens=crun.prompt_tokens,\n",
    "                       completion_tokens=crun.completion_tokens,\n",
    "                       feedback=_feedback, \n",
    "                       feedback_keys=list(L(_feedback).attrgot('key').filter()),\n",
    "                       tags=run.tags,\n",
    "                       start_dt=run.start_time.strftime('%m/%d/%Y'),\n",
    "                       function_defs=get_functions(crun),\n",
    "                       **params)"
   ]
  },
  {
   "cell_type": "markdown",
   "id": "10d1284f-790a-409b-a3aa-f4ff41a3dac7",
   "metadata": {},
   "source": [
    "When instantiating `ChatRecord` with the class methods `ChatRecord.from_run` or `ChatRecord.from_run_id`, we automatically query the parent run of the LangChain trace in LangSmith to get metadata like feedback.  Additionally, if you instantiate `ChatRecord` with a root run or a run that is not a `ChatOpenAI` run type, `ChatRecord` will attempt to find the last `ChatOpenAI` in your chain and store the id in `ChatRecord.child_run_id`.  The data for this child run (inputs, outputs, functions) is stored in `ChatRecord.child_run` and is of type `RunData`."
   ]
  },
  {
   "cell_type": "code",
   "execution_count": null,
   "id": "c3ba391c-cce1-45d8-90c6-4422a43551c5",
   "metadata": {},
   "outputs": [
    {
     "name": "stderr",
     "output_type": "stream",
     "text": [
      "/Users/hamel/mambaforge/lib/python3.10/site-packages/langchain_core/_api/beta_decorator.py:86: LangChainBetaWarning: The function `load` is in beta. It is actively being worked on, so the API may change.\n",
      "  warn_beta(\n"
     ]
    },
    {
     "data": {
      "text/plain": [
       "AIMessage(content='```json\\n{\"id\":\"df952a3b-d04b-4329-865d-ef37e727da38\",\"type\":\"template_instance\"}\\n```')"
      ]
     },
     "execution_count": null,
     "metadata": {},
     "output_type": "execute_result"
    }
   ],
   "source": [
    "#|hide\n",
    "# this used to cause a confusing deserialiization error\n",
    "from langchain.load import load\n",
    "\n",
    "_tst_run_id = '98d1c463-bf25-46a1-90f2-a3a1b5e2fa3f'\n",
    "client = Client()\n",
    "_trun = client.read_run(run_id=_tst_run_id)\n",
    "_run, _crun = get_child_chat_run(_trun)\n",
    "\n",
    "_msg = _crun.outputs['generations'][0]['message']\n",
    "load(_msg)"
   ]
  },
  {
   "cell_type": "code",
   "execution_count": null,
   "id": "57127967-b38c-421b-b8ce-6bff1339cf8d",
   "metadata": {},
   "outputs": [
    {
     "data": {
      "text/markdown": [
       "---\n",
       "\n",
       "[source](https://github.com/parlance-labs/langfree/blob/main/langfree/chatrecord.py#L93){target=\"_blank\" style=\"float:right; font-size:smaller\"}\n",
       "\n",
       "#### ChatRecord.from_run\n",
       "\n",
       ">      ChatRecord.from_run (run:langsmith.schemas.Run)\n",
       "\n",
       "Collect information About A Run into a `ChatRecord`.\n",
       "\n",
       "|    | **Type** | **Details** |\n",
       "| -- | -------- | ----------- |\n",
       "| run | Run | the run object to parse. |"
      ],
      "text/plain": [
       "---\n",
       "\n",
       "[source](https://github.com/parlance-labs/langfree/blob/main/langfree/chatrecord.py#L93){target=\"_blank\" style=\"float:right; font-size:smaller\"}\n",
       "\n",
       "#### ChatRecord.from_run\n",
       "\n",
       ">      ChatRecord.from_run (run:langsmith.schemas.Run)\n",
       "\n",
       "Collect information About A Run into a `ChatRecord`.\n",
       "\n",
       "|    | **Type** | **Details** |\n",
       "| -- | -------- | ----------- |\n",
       "| run | Run | the run object to parse. |"
      ]
     },
     "execution_count": null,
     "metadata": {},
     "output_type": "execute_result"
    }
   ],
   "source": [
    "show_doc(ChatRecord.from_run, title_level=4)"
   ]
  },
  {
   "cell_type": "code",
   "execution_count": null,
   "id": "43efaf24-b2db-41c2-983d-017a9167b862",
   "metadata": {},
   "outputs": [],
   "source": [
    "client = Client()\n",
    "_root_run = client.read_run('fbfd220a-c731-46a2-87b3-e64a477824f5')\n",
    "_root_result = ChatRecord.from_run(_root_run)"
   ]
  },
  {
   "cell_type": "code",
   "execution_count": null,
   "id": "008ae7c8-cb53-4308-8708-7535d14a223d",
   "metadata": {},
   "outputs": [
    {
     "data": {
      "text/markdown": [
       "---\n",
       "\n",
       "[source](https://github.com/parlance-labs/langfree/blob/main/langfree/chatrecord.py#L85){target=\"_blank\" style=\"float:right; font-size:smaller\"}\n",
       "\n",
       "#### ChatRecord.from_run_id\n",
       "\n",
       ">      ChatRecord.from_run_id (run_id:str)\n",
       "\n",
       "Collect information About A Run into a `ChatRecord`.\n",
       "\n",
       "|    | **Type** | **Details** |\n",
       "| -- | -------- | ----------- |\n",
       "| run_id | str | the run id to fetch and parse. |"
      ],
      "text/plain": [
       "---\n",
       "\n",
       "[source](https://github.com/parlance-labs/langfree/blob/main/langfree/chatrecord.py#L85){target=\"_blank\" style=\"float:right; font-size:smaller\"}\n",
       "\n",
       "#### ChatRecord.from_run_id\n",
       "\n",
       ">      ChatRecord.from_run_id (run_id:str)\n",
       "\n",
       "Collect information About A Run into a `ChatRecord`.\n",
       "\n",
       "|    | **Type** | **Details** |\n",
       "| -- | -------- | ----------- |\n",
       "| run_id | str | the run id to fetch and parse. |"
      ]
     },
     "execution_count": null,
     "metadata": {},
     "output_type": "execute_result"
    }
   ],
   "source": [
    "show_doc(ChatRecord.from_run_id, title_level=4)"
   ]
  },
  {
   "cell_type": "code",
   "execution_count": null,
   "id": "b300ab30-6d4d-474a-a5b6-b14b59fefe59",
   "metadata": {},
   "outputs": [],
   "source": [
    "_child_run_id = str(_root_run.child_run_ids[-1])\n",
    "_child_result = ChatRecord.from_run_id(_child_run_id)"
   ]
  },
  {
   "cell_type": "markdown",
   "id": "d6d69caa-58fd-419b-b81a-72a5c492ba56",
   "metadata": {},
   "source": [
    "Tests"
   ]
  },
  {
   "cell_type": "code",
   "execution_count": null,
   "id": "fd718377-5738-4179-9708-0bcf0d0108e2",
   "metadata": {},
   "outputs": [],
   "source": [
    "# test that child and root runs are related\n",
    "test_eq(_root_result.flat_output, _child_result.flat_output)\n",
    "test_eq(_root_result.parent_run_id, _child_result.parent_run_id)\n",
    "\n",
    "# Test case without feedback\n",
    "_parent_run_no_feedback = client.read_run('87900cfc-0322-48fb-b009-33d226d73597')\n",
    "_no_feedback = ChatRecord.from_run(_parent_run_no_feedback)\n",
    "test_eq(_no_feedback.feedback, [])\n",
    "\n",
    "# Test case with feedback\n",
    "\n",
    "#  ... starting with a child run\n",
    "_child_w_feedback = client.read_run('f8717b0e-fb90-45cd-be00-9b4614965a2e')\n",
    "_feedback = ChatRecord.from_run(_child_w_feedback).feedback\n",
    "assert _feedback[0]['key'] == 'empty response'\n",
    "\n",
    "# #  ... starting with a parent run\n",
    "_parent_w_feedback = client.read_run(_child_w_feedback.parent_run_id)\n",
    "_feedback2 = ChatRecord.from_run(_parent_w_feedback).feedback\n",
    "test_eq(_feedback[0]['comment'],  _feedback2[0]['comment'])"
   ]
  },
  {
   "cell_type": "markdown",
   "id": "5c9b0e08-f640-441c-b825-da25f0f747ff",
   "metadata": {},
   "source": [
    "## `ChatRecordSet`, a list of `ChatRecord`"
   ]
  },
  {
   "cell_type": "code",
   "execution_count": null,
   "id": "cc7563fc-b096-4f4f-ad6a-2fcf00485d44",
   "metadata": {},
   "outputs": [],
   "source": [
    "#|export\n",
    "class ChatRecordSet(BaseModel):\n",
    "    \"A List of `ChatRecord`.\"\n",
    "    records: List[ChatRecord]\n",
    "    \n",
    "    @classmethod\n",
    "    def from_commit(cls, commit_id:str, limit:int=None):\n",
    "        \"Create a `ChatRecordSet` from a commit id\"\n",
    "        _runs = get_runs_by_commit(commit_id=commit_id, limit=limit)\n",
    "        return cls.from_runs(_runs)\n",
    "    \n",
    "    @classmethod\n",
    "    def from_runs(cls, runs:List[langsmith.schemas.Run]):\n",
    "        \"Load ChatRecordSet from runs.\"\n",
    "        _records = []\n",
    "        for r in runs:\n",
    "            try: _records.append(ChatRecord.from_run(r))\n",
    "            except NoChatOpenAI as e: print(e) \n",
    "        return cls(records=_records)\n",
    "\n",
    "    @classmethod\n",
    "    def from_run_ids(cls, runs:List[str]):\n",
    "        \"Load ChatRecordSet from run ids.\"\n",
    "        _records = []\n",
    "        for r in runs:\n",
    "            try: _records.append(ChatRecord.from_run_id(r))\n",
    "            except NoChatOpenAI as e: print(e)\n",
    "        return cls(records=_records)\n",
    "    \n",
    "    def __len__(self): return len(self.records)\n",
    "\n",
    "    def __getitem__(self, index: int) -> ChatRecord:\n",
    "        return self.records[index]\n",
    "\n",
    "    def __repr__(self):\n",
    "        return f'`List[ChatRecord]` of size {len(self.records)}.'\n",
    "    \n",
    "    def save(self, path:str):\n",
    "        \"Save data to disk.\"\n",
    "        dest_path = Path(path)\n",
    "        if not dest_path.parent.exists(): dest_path.parent.mkdir(exist_ok=True)\n",
    "        with open(dest_path, 'wb') as f:\n",
    "            pickle.dump(self, f)\n",
    "            return dest_path\n",
    "        \n",
    "    def __iter__(self): \n",
    "        for r in self.records: \n",
    "            yield r\n",
    "    \n",
    "    @classmethod\n",
    "    def load(cls, path:str):\n",
    "        \"Load data from disk.\"\n",
    "        src_path = Path(path)\n",
    "        with open(src_path, 'rb') as f:\n",
    "            obj = pickle.load(f)\n",
    "            if isinstance(obj, cls):\n",
    "                return obj\n",
    "            else:\n",
    "                raise TypeError(f\"The loaded object is not of type {cls.__name__}\")\n",
    "                \n",
    "    def to_pandas(self):\n",
    "        \"Convert the `ChatRecordSet` to a pandas.DataFrame.\"\n",
    "        records = L(self.records).map(dict)                      \n",
    "        return pd.DataFrame(records)\n",
    "\n",
    "    def to_dicts(self):\n",
    "        \"Convert the ChatRecordSet to a list of dicts, which you can convert to jsonl.\"\n",
    "        return list(L(self.records).map(lambda x: x.child_run.to_msg_dict()))"
   ]
  },
  {
   "cell_type": "code",
   "execution_count": null,
   "id": "b7c0acbe-5edb-446f-8fa3-51c74d588a42",
   "metadata": {},
   "outputs": [
    {
     "data": {
      "text/markdown": [
       "---\n",
       "\n",
       "[source](https://github.com/parlance-labs/langfree/blob/main/langfree/chatrecord.py#L130){target=\"_blank\" style=\"float:right; font-size:smaller\"}\n",
       "\n",
       "#### ChatRecordSet.from_runs\n",
       "\n",
       ">      ChatRecordSet.from_runs (runs:List[langsmith.schemas.Run])\n",
       "\n",
       "Load ChatRecordSet from runs."
      ],
      "text/plain": [
       "---\n",
       "\n",
       "[source](https://github.com/parlance-labs/langfree/blob/main/langfree/chatrecord.py#L130){target=\"_blank\" style=\"float:right; font-size:smaller\"}\n",
       "\n",
       "#### ChatRecordSet.from_runs\n",
       "\n",
       ">      ChatRecordSet.from_runs (runs:List[langsmith.schemas.Run])\n",
       "\n",
       "Load ChatRecordSet from runs."
      ]
     },
     "execution_count": null,
     "metadata": {},
     "output_type": "execute_result"
    }
   ],
   "source": [
    "show_doc(ChatRecordSet.from_runs, title_level=4)"
   ]
  },
  {
   "cell_type": "markdown",
   "id": "b48d366f-052e-4539-9ec3-7d860e12d51d",
   "metadata": {},
   "source": [
    "We can create a `ChatRecordSet` directly from a list of runs:"
   ]
  },
  {
   "cell_type": "code",
   "execution_count": null,
   "id": "26f451f5-ab9a-4e0a-b338-912d941dd5ed",
   "metadata": {},
   "outputs": [
    {
     "name": "stdout",
     "output_type": "stream",
     "text": [
      "Fetching runs with this filter: and(eq(status, \"success\"), has(tags, \"commit:028e4aa4\"))\n"
     ]
    }
   ],
   "source": [
    "# from langfree.runs import get_runs_by_commit\n",
    "_runs = get_runs_by_commit(commit_id='028e4aa4', limit=10)\n",
    "llmdata = ChatRecordSet.from_runs(_runs)"
   ]
  },
  {
   "cell_type": "markdown",
   "id": "840645a5-18dc-4682-8511-e3bda826dcfb",
   "metadata": {},
   "source": [
    "There is a special shortcut to get runs by a commit tag which uses `get_runs_by_commit` for you:"
   ]
  },
  {
   "cell_type": "code",
   "execution_count": null,
   "id": "241699d9-13f3-4c4c-9511-057dc1c2e62b",
   "metadata": {},
   "outputs": [
    {
     "data": {
      "text/markdown": [
       "---\n",
       "\n",
       "[source](https://github.com/parlance-labs/langfree/blob/main/langfree/chatrecord.py#L124){target=\"_blank\" style=\"float:right; font-size:smaller\"}\n",
       "\n",
       "#### ChatRecordSet.from_commit\n",
       "\n",
       ">      ChatRecordSet.from_commit (commit_id:str, limit:int=None)\n",
       "\n",
       "Create a `ChatRecordSet` from a commit id"
      ],
      "text/plain": [
       "---\n",
       "\n",
       "[source](https://github.com/parlance-labs/langfree/blob/main/langfree/chatrecord.py#L124){target=\"_blank\" style=\"float:right; font-size:smaller\"}\n",
       "\n",
       "#### ChatRecordSet.from_commit\n",
       "\n",
       ">      ChatRecordSet.from_commit (commit_id:str, limit:int=None)\n",
       "\n",
       "Create a `ChatRecordSet` from a commit id"
      ]
     },
     "execution_count": null,
     "metadata": {},
     "output_type": "execute_result"
    }
   ],
   "source": [
    "show_doc(ChatRecordSet.from_commit, title_level=4)"
   ]
  },
  {
   "cell_type": "code",
   "execution_count": null,
   "id": "9ca91b92-f293-4982-8a43-48e8c6e111ac",
   "metadata": {},
   "outputs": [
    {
     "name": "stdout",
     "output_type": "stream",
     "text": [
      "Fetching runs with this filter: and(eq(status, \"success\"), has(tags, \"commit:028e4aa4\"))\n"
     ]
    }
   ],
   "source": [
    "llmdata2 = ChatRecordSet.from_commit('028e4aa4', limit=10)\n",
    "assert llmdata[0].child_run_id == llmdata2[0].child_run_id"
   ]
  },
  {
   "cell_type": "markdown",
   "id": "f9c88fbe-a57a-4c4b-a804-c5e504277f6e",
   "metadata": {},
   "source": [
    "Finally, you can also construct a `ChatRecordSet` from a list of run ids:"
   ]
  },
  {
   "cell_type": "code",
   "execution_count": null,
   "id": "9ab513c0-46ad-48f5-941a-c69726635df0",
   "metadata": {},
   "outputs": [
    {
     "data": {
      "text/markdown": [
       "---\n",
       "\n",
       "[source](https://github.com/parlance-labs/langfree/blob/main/langfree/chatrecord.py#L139){target=\"_blank\" style=\"float:right; font-size:smaller\"}\n",
       "\n",
       "#### ChatRecordSet.from_run_ids\n",
       "\n",
       ">      ChatRecordSet.from_run_ids (runs:List[str])\n",
       "\n",
       "Load ChatRecordSet from run ids."
      ],
      "text/plain": [
       "---\n",
       "\n",
       "[source](https://github.com/parlance-labs/langfree/blob/main/langfree/chatrecord.py#L139){target=\"_blank\" style=\"float:right; font-size:smaller\"}\n",
       "\n",
       "#### ChatRecordSet.from_run_ids\n",
       "\n",
       ">      ChatRecordSet.from_run_ids (runs:List[str])\n",
       "\n",
       "Load ChatRecordSet from run ids."
      ]
     },
     "execution_count": null,
     "metadata": {},
     "output_type": "execute_result"
    }
   ],
   "source": [
    "show_doc(ChatRecordSet.from_run_ids, title_level=4)"
   ]
  },
  {
   "cell_type": "code",
   "execution_count": null,
   "id": "ed10b22d-46e5-4e30-b280-ee9f71ed431e",
   "metadata": {},
   "outputs": [],
   "source": [
    "_run_ids = ['ba3c0a47-0803-4b0f-8a2f-380722edc2bf',\n",
    " '842fe1b4-c650-4bfa-bcf9-bf5c30f8204c',\n",
    " '5c06bbf3-ef14-47a1-a3a4-221f65d4a407',\n",
    " '327039ab-a0a5-488b-875f-21e0d30ee2cd']\n",
    "\n",
    "llmdata3 = ChatRecordSet.from_run_ids(_run_ids)\n",
    "assert len(llmdata3) == len(_run_ids)\n",
    "assert llmdata[0].child_run_id == _run_ids[0]"
   ]
  },
  {
   "cell_type": "markdown",
   "id": "3d487386-c66d-44ea-b7e9-8dba650aa917",
   "metadata": {},
   "source": [
    "### Convert `ChatRecordSet` to a Pandas Dataframe\n",
    "\n",
    "You can do this with `to_pandas()`"
   ]
  },
  {
   "cell_type": "code",
   "execution_count": null,
   "id": "05787582-4982-4d7a-8500-cccf283fbc0a",
   "metadata": {},
   "outputs": [
    {
     "data": {
      "text/html": [
       "<div>\n",
       "<style scoped>\n",
       "    .dataframe tbody tr th:only-of-type {\n",
       "        vertical-align: middle;\n",
       "    }\n",
       "\n",
       "    .dataframe tbody tr th {\n",
       "        vertical-align: top;\n",
       "    }\n",
       "\n",
       "    .dataframe thead th {\n",
       "        text-align: right;\n",
       "    }\n",
       "</style>\n",
       "<table border=\"1\" class=\"dataframe\">\n",
       "  <thead>\n",
       "    <tr style=\"text-align: right;\">\n",
       "      <th></th>\n",
       "      <th>child_run_id</th>\n",
       "      <th>child_run</th>\n",
       "      <th>child_url</th>\n",
       "      <th>parent_run_id</th>\n",
       "      <th>parent_url</th>\n",
       "      <th>total_tokens</th>\n",
       "      <th>prompt_tokens</th>\n",
       "      <th>completion_tokens</th>\n",
       "      <th>feedback</th>\n",
       "      <th>feedback_keys</th>\n",
       "      <th>tags</th>\n",
       "      <th>start_dt</th>\n",
       "      <th>function_defs</th>\n",
       "      <th>param_model_name</th>\n",
       "      <th>param_n</th>\n",
       "      <th>param_top_p</th>\n",
       "      <th>param_temp</th>\n",
       "      <th>param_presence_penalty</th>\n",
       "      <th>param_freq_penalty</th>\n",
       "    </tr>\n",
       "  </thead>\n",
       "  <tbody>\n",
       "    <tr>\n",
       "      <th>0</th>\n",
       "      <td>ba3c0a47-0803-4b0f-8a2f-380722edc2bf</td>\n",
       "      <td>inputs=[{'role': 'system', 'content': 'You are...</td>\n",
       "      <td>https://smith.langchain.com/o/9d90c3d2-ca7e-4c...</td>\n",
       "      <td>7074af93-1821-4325-9d45-0f2e81eca0fe</td>\n",
       "      <td>https://smith.langchain.com/o/9d90c3d2-ca7e-4c...</td>\n",
       "      <td>0</td>\n",
       "      <td>0</td>\n",
       "      <td>0</td>\n",
       "      <td>[]</td>\n",
       "      <td>[]</td>\n",
       "      <td>[commit:028e4aa4, branch:testing, test, room:6...</td>\n",
       "      <td>09/05/2023</td>\n",
       "      <td>[{'name': 'contact-finder', 'parameters': {'ty...</td>\n",
       "      <td>gpt-3.5-turbo-0613</td>\n",
       "      <td>1</td>\n",
       "      <td>1</td>\n",
       "      <td>0</td>\n",
       "      <td>0</td>\n",
       "      <td>0</td>\n",
       "    </tr>\n",
       "  </tbody>\n",
       "</table>\n",
       "</div>"
      ],
      "text/plain": [
       "                           child_run_id  \\\n",
       "0  ba3c0a47-0803-4b0f-8a2f-380722edc2bf   \n",
       "\n",
       "                                           child_run  \\\n",
       "0  inputs=[{'role': 'system', 'content': 'You are...   \n",
       "\n",
       "                                           child_url  \\\n",
       "0  https://smith.langchain.com/o/9d90c3d2-ca7e-4c...   \n",
       "\n",
       "                          parent_run_id  \\\n",
       "0  7074af93-1821-4325-9d45-0f2e81eca0fe   \n",
       "\n",
       "                                          parent_url  total_tokens  \\\n",
       "0  https://smith.langchain.com/o/9d90c3d2-ca7e-4c...             0   \n",
       "\n",
       "   prompt_tokens  completion_tokens feedback feedback_keys  \\\n",
       "0              0                  0       []            []   \n",
       "\n",
       "                                                tags    start_dt  \\\n",
       "0  [commit:028e4aa4, branch:testing, test, room:6...  09/05/2023   \n",
       "\n",
       "                                       function_defs    param_model_name  \\\n",
       "0  [{'name': 'contact-finder', 'parameters': {'ty...  gpt-3.5-turbo-0613   \n",
       "\n",
       "   param_n  param_top_p  param_temp  param_presence_penalty  \\\n",
       "0        1            1           0                       0   \n",
       "\n",
       "   param_freq_penalty  \n",
       "0                   0  "
      ]
     },
     "execution_count": null,
     "metadata": {},
     "output_type": "execute_result"
    }
   ],
   "source": [
    "_df = llmdata.to_pandas()\n",
    "_df.head(1)"
   ]
  },
  {
   "cell_type": "code",
   "execution_count": null,
   "id": "31f80a84-d399-41dc-83f1-a9e01a7823b1",
   "metadata": {},
   "outputs": [],
   "source": [
    "#|hide\n",
    "assert _df.shape[0] == 10"
   ]
  },
  {
   "cell_type": "markdown",
   "id": "088b1760-faa5-42bd-97d9-cb3e4348ed3f",
   "metadata": {},
   "source": [
    "### Save Data"
   ]
  },
  {
   "cell_type": "code",
   "execution_count": null,
   "id": "e06c2214-a08e-4cc4-9188-ec755d1d8b79",
   "metadata": {},
   "outputs": [
    {
     "data": {
      "text/plain": [
       "Path('_data/llm_data.pkl')"
      ]
     },
     "execution_count": null,
     "metadata": {},
     "output_type": "execute_result"
    }
   ],
   "source": [
    "#|eval: false\n",
    "llmdata.save('_data/llm_data.pkl')"
   ]
  },
  {
   "cell_type": "markdown",
   "id": "59dcb976-bb6c-4909-b8b0-0e8099272e81",
   "metadata": {},
   "source": [
    "### Load Data"
   ]
  },
  {
   "cell_type": "code",
   "execution_count": null,
   "id": "1689b521-7f85-406f-9122-618dcae57d50",
   "metadata": {},
   "outputs": [],
   "source": [
    "#|eval: false\n",
    "_loaded = ChatRecordSet.load('_data/llm_data.pkl')\n",
    "assert llmdata.records[0].child_run_id == _loaded.records[0].child_run_id"
   ]
  },
  {
   "cell_type": "code",
   "execution_count": null,
   "id": "77fd088e-2cbf-407c-bf6b-8a221193839e",
   "metadata": {},
   "outputs": [],
   "source": [
    "#|hide\n",
    "import nbdev; nbdev.nbdev_export()"
   ]
  },
  {
   "cell_type": "code",
   "execution_count": null,
   "id": "80346342-5979-426f-973b-330a57232db9",
   "metadata": {},
   "outputs": [],
   "source": []
  }
 ],
 "metadata": {
  "kernelspec": {
   "display_name": "python3",
   "language": "python",
   "name": "python3"
  }
 },
 "nbformat": 4,
 "nbformat_minor": 5
}
