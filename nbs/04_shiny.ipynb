{
 "cells": [
  {
   "cell_type": "markdown",
   "id": "faff8878-d80b-4141-92b2-d64edd99ab24",
   "metadata": {},
   "source": [
    "# shiny\n",
    "> components for Shiny"
   ]
  },
  {
   "cell_type": "markdown",
   "id": "13d11348-e5b6-4221-98ce-1d25d220a9a5",
   "metadata": {},
   "source": [
    "[Shiny for Python](https://shiny.posit.co/py/) is a front end framework that allows you to quickly build simple applications.  It's perfect for customizing your own data annotation and review app for LLMs[^1].  This module contains opinionated components that display [ChatOpenAI](https://api.python.langchain.com/en/latest/chat_models/langchain.chat_models.openai.ChatOpenAI.html) run information in Shiny Apps.\n",
    "\n",
    "[^1]: We tried other similar frameworks like Gradio, Streamlit, and Panel, but found Shiny to fit our needs the best."
   ]
  },
  {
   "cell_type": "code",
   "execution_count": null,
   "id": "5c67c400-6eb1-4ce8-8e3c-db129b5dca5c",
   "metadata": {},
   "outputs": [],
   "source": [
    "#|default_exp shiny"
   ]
  },
  {
   "cell_type": "code",
   "execution_count": null,
   "id": "e8b6c078-873c-4dce-bb4a-3fc103eb5ccf",
   "metadata": {},
   "outputs": [],
   "source": [
    "#|export\n",
    "import os, json\n",
    "from pprint import pformat\n",
    "from langfree.transform import RunData\n",
    "from shiny import module, ui, render, reactive\n",
    "import shiny.experimental as x\n",
    "import asyncio"
   ]
  },
  {
   "cell_type": "code",
   "execution_count": null,
   "id": "71e6b2f4-6399-4fd0-93c9-c9ca0d58e953",
   "metadata": {},
   "outputs": [],
   "source": [
    "#|hide\n",
    "from langfree.runs import _temp_env_var"
   ]
  },
  {
   "cell_type": "code",
   "execution_count": null,
   "id": "a16b95de-529a-42c0-b705-69af19af84a7",
   "metadata": {},
   "outputs": [],
   "source": [
    "#|export\n",
    "def _get_role(m):\n",
    "    role = m['role'].upper()\n",
    "    if 'function_call' in m: return f\"{role} - Function Call\"\n",
    "    if role == 'FUNCTION': return 'FUNCTION RESULTS'\n",
    "    else: return role\n",
    "\n",
    "def _get_content(m):\n",
    "    if 'function_call' in m:\n",
    "        func = m['function_call']\n",
    "        return f\"{func['name']}({func['arguments']})\"\n",
    "    else: return m['content']\n",
    "\n",
    "def render_input_chat(run:RunData, markdown=True):\n",
    "    \"Render the chat history, except for the last output as a group of cards.\"\n",
    "    cards = []\n",
    "    num_inputs = len(run.inputs)\n",
    "    for i,m in enumerate(run.inputs):\n",
    "        content = str(_get_content(m))\n",
    "        if _get_role(m) == 'FUNCTION RESULTS':\n",
    "            try: content = '```json\\n' + pformat(json.loads(content)) + '\\n```'\n",
    "            except: pass\n",
    "        cards.append(\n",
    "            ui.card(\n",
    "                ui.card_header(ui.div({\"style\": \"display: flex; justify-content: space-between;\"},\n",
    "                                    ui.span(\n",
    "                                        {\"style\": \"font-weight: bold;\"}, \n",
    "                                        _get_role(m),\n",
    "                                    ),\n",
    "                                    ui.span(f'({i+1}/{num_inputs})'),\n",
    "                                )       \n",
    "                ),\n",
    "                x.ui.card_body(ui.markdown(content) if markdown else content),\n",
    "                class_= \"card border-dark mb-3\"\n",
    "            )\n",
    "        )\n",
    "    return ui.div(*cards)"
   ]
  },
  {
   "cell_type": "code",
   "execution_count": null,
   "id": "f4f7a1b6-0f8b-45cd-aa28-3fa53fdfff47",
   "metadata": {},
   "outputs": [],
   "source": [
    "#|hide\n",
    "tmp_env = {'LANGCHAIN_API_KEY': os.environ['LANGCHAIN_API_KEY_PUB'], \n",
    "           'LANGSMITH_PROJECT_ID': os.environ['LANGCHAIN_PROJECT_ID_PUB']}"
   ]
  },
  {
   "cell_type": "markdown",
   "id": "22b82a19-b45c-42d6-b302-c8d34b43563f",
   "metadata": {},
   "source": [
    "`render_input` will take an instance of `RunData` and render a set of Shiny cards, with each card containing one turn of the chat conversation:"
   ]
  },
  {
   "cell_type": "code",
   "execution_count": null,
   "id": "2b4ca6a3-a5d6-46cc-85c6-728bd1b173ef",
   "metadata": {},
   "outputs": [],
   "source": [
    "from langfree.transform import RunData"
   ]
  },
  {
   "cell_type": "code",
   "execution_count": null,
   "id": "4a323643-323b-4bd0-bce3-9ccd02b7c643",
   "metadata": {},
   "outputs": [
    {
     "name": "stderr",
     "output_type": "stream",
     "text": [
      "/Users/hamel/mambaforge/lib/python3.10/site-packages/langchain_core/_api/beta_decorator.py:86: LangChainBetaWarning: The function `load` is in beta. It is actively being worked on, so the API may change.\n",
      "  warn_beta(\n"
     ]
    }
   ],
   "source": [
    "with _temp_env_var(tmp_env):  #context manager that has specific environment vars for testing\n",
    "    _tst_run = RunData.from_run_id('1863d76e-1462-489a-a8a7-e0404239fe47')\n",
    "    \n",
    "_rendered_inp = render_input_chat(_tst_run) "
   ]
  },
  {
   "cell_type": "markdown",
   "id": "602e3e72-4028-4bcb-b23c-d5f191b23c0d",
   "metadata": {},
   "source": [
    "Below, we render the first card in the conversation:"
   ]
  },
  {
   "cell_type": "code",
   "execution_count": null,
   "id": "cdd705d8-d249-4c8d-8c5b-1a65c5aa1b69",
   "metadata": {},
   "outputs": [
    {
     "data": {
      "text/html": [
       "<div class=\"card bslib-card bslib-mb-spacing card border-dark mb-3 html-fill-item html-fill-container\" data-bslib-card-init=\"\">\n",
       "  <div class=\"card-header\">\n",
       "    <div style=\"display: flex; justify-content: space-between;\">\n",
       "      <span style=\"font-weight: bold;\">SYSTEM</span><span>(1/3)</span>\n",
       "    </div>\n",
       "  </div>\n",
       "  <div class=\"card-body bslib-gap-spacing html-fill-item html-fill-container\" style=\"margin-top:auto;margin-bottom:auto;flex:1 1 auto;\"><p>You are a helpful documentation Q&amp;A assistant, trained to answer questions from LangSmith's documentation. LangChain is a framework for building applications using large language models.\n",
       "The current time is 2023-09-05 16:49:07.308007.</p>\n",
       "<p>Relevant documents will be retrieved in the following messages.</p>\n",
       "</div>\n",
       "  <script data-bslib-card-init=\"\">window.bslib.Card.initializeAllCards();</script>\n",
       "</div>"
      ],
      "text/plain": [
       "<div class=\"card bslib-card bslib-mb-spacing card border-dark mb-3 html-fill-item html-fill-container\" data-bslib-card-init=\"\">\n",
       "  <div class=\"card-header\">\n",
       "    <div style=\"display: flex; justify-content: space-between;\">\n",
       "      <span style=\"font-weight: bold;\">SYSTEM</span><span>(1/3)</span>\n",
       "    </div>\n",
       "  </div>\n",
       "  <div class=\"card-body bslib-gap-spacing html-fill-item html-fill-container\" style=\"margin-top:auto;margin-bottom:auto;flex:1 1 auto;\"><p>You are a helpful documentation Q&amp;A assistant, trained to answer questions from LangSmith's documentation. LangChain is a framework for building applications using large language models.\n",
       "The current time is 2023-09-05 16:49:07.308007.</p>\n",
       "<p>Relevant documents will be retrieved in the following messages.</p>\n",
       "</div>\n",
       "  <script data-bslib-card-init=\"\">window.bslib.Card.initializeAllCards();</script>\n",
       "</div>"
      ]
     },
     "execution_count": null,
     "metadata": {},
     "output_type": "execute_result"
    }
   ],
   "source": [
    "_rendered_inp.children[0] # the first message in the conversation"
   ]
  },
  {
   "cell_type": "markdown",
   "id": "f9c6a02f-62bd-42f8-a314-cf1e2e70f1d7",
   "metadata": {},
   "source": [
    "Here is the last card in the conversation:"
   ]
  },
  {
   "cell_type": "code",
   "execution_count": null,
   "id": "e8c68ffa-500b-48d2-998e-fac86083107a",
   "metadata": {},
   "outputs": [
    {
     "data": {
      "text/html": [
       "<div class=\"card bslib-card bslib-mb-spacing card border-dark mb-3 html-fill-item html-fill-container\" data-bslib-card-init=\"\">\n",
       "  <div class=\"card-header\">\n",
       "    <div style=\"display: flex; justify-content: space-between;\">\n",
       "      <span style=\"font-weight: bold;\">USER</span><span>(3/3)</span>\n",
       "    </div>\n",
       "  </div>\n",
       "  <div class=\"card-body bslib-gap-spacing html-fill-item html-fill-container\" style=\"margin-top:auto;margin-bottom:auto;flex:1 1 auto;\"><p>How do I move my project between organizations?</p>\n",
       "</div>\n",
       "  <script data-bslib-card-init=\"\">window.bslib.Card.initializeAllCards();</script>\n",
       "</div>"
      ],
      "text/plain": [
       "<div class=\"card bslib-card bslib-mb-spacing card border-dark mb-3 html-fill-item html-fill-container\" data-bslib-card-init=\"\">\n",
       "  <div class=\"card-header\">\n",
       "    <div style=\"display: flex; justify-content: space-between;\">\n",
       "      <span style=\"font-weight: bold;\">USER</span><span>(3/3)</span>\n",
       "    </div>\n",
       "  </div>\n",
       "  <div class=\"card-body bslib-gap-spacing html-fill-item html-fill-container\" style=\"margin-top:auto;margin-bottom:auto;flex:1 1 auto;\"><p>How do I move my project between organizations?</p>\n",
       "</div>\n",
       "  <script data-bslib-card-init=\"\">window.bslib.Card.initializeAllCards();</script>\n",
       "</div>"
      ]
     },
     "execution_count": null,
     "metadata": {},
     "output_type": "execute_result"
    }
   ],
   "source": [
    "_rendered_inp.children[-1] # the last message in the conversation"
   ]
  },
  {
   "cell_type": "code",
   "execution_count": null,
   "id": "51c2b5bd-9cbd-49f1-8d44-34ec38b4bf88",
   "metadata": {},
   "outputs": [],
   "source": [
    "#|hide\n",
    "_run = RunData.from_run_id('59080971-8786-4849-be88-898d3ffc2b45')\n",
    "_rendered_inp = render_input_chat(_run)"
   ]
  },
  {
   "cell_type": "code",
   "execution_count": null,
   "id": "8b74b70e-357d-4c7e-8712-569c7696d710",
   "metadata": {},
   "outputs": [
    {
     "data": {
      "text/html": [
       "<div class=\"card bslib-card bslib-mb-spacing card border-dark mb-3 html-fill-item html-fill-container\" data-bslib-card-init=\"\">\n",
       "  <div class=\"card-header\">\n",
       "    <div style=\"display: flex; justify-content: space-between;\">\n",
       "      <span style=\"font-weight: bold;\">FUNCTION RESULTS</span><span>(4/7)</span>\n",
       "    </div>\n",
       "  </div>\n",
       "  <div class=\"card-body bslib-gap-spacing html-fill-item html-fill-container\" style=\"margin-top:auto;margin-bottom:auto;flex:1 1 auto;\"><pre><code class=\"language-json\">{'id': 'ee152e0b-0de2-48ea-94e5-a14b8c0d5178',\n",
       " 'inputs': [{'required': False,\n",
       "             'suggestions': [{'listing': {'address': '2430 Victory Park Lane '\n",
       "                                                     'Unit 2508',\n",
       "                                          'baths': 2.1,\n",
       "                                          'beds': 2,\n",
       "                                          'close_date': None,\n",
       "                                          'close_price': None,\n",
       "                                          'id': '7ff2fad0-cc63-11e5-913f-f23c91c841bd',\n",
       "                                          'mls': 'NTREIS',\n",
       "                                          'mls_number': '13315265',\n",
       "                                          'price': 1350000,\n",
       "                                          'status': 'Active',\n",
       "                                          'type': 'compact_listing'},\n",
       "                              'type': 'input_form_suggestion',\n",
       "                              'value': '1st listing'},\n",
       "                             {'listing': {'address': '2430 Victory Park Lane '\n",
       "                                                     'Unit 2003',\n",
       "                                          'baths': 2,\n",
       "                                          'beds': 1,\n",
       "                                          'close_date': None,\n",
       "                                          'close_price': None,\n",
       "                                          'id': '33836686-d0db-11e5-b351-f23c91c841bd',\n",
       "                                          'mls': 'NTREIS',\n",
       "                                          'mls_number': '13317847',\n",
       "                                          'price': 770000,\n",
       "                                          'status': 'Active',\n",
       "                                          'type': 'compact_listing'},\n",
       "                              'type': 'input_form_suggestion',\n",
       "                              'value': '2nd listing'},\n",
       "                             {'listing': {'address': '2430 Victory Park Lane '\n",
       "                                                     'Unit 3001',\n",
       "                                          'baths': 7.3,\n",
       "                                          'beds': 5,\n",
       "                                          'close_date': None,\n",
       "                                          'close_price': None,\n",
       "                                          'id': 'cdaef89c-cb9a-11e5-b4c2-f23c91c841bd',\n",
       "                                          'mls': 'NTREIS',\n",
       "                                          'mls_number': '13314620',\n",
       "                                          'price': 7995000,\n",
       "                                          'status': 'Active',\n",
       "                                          'type': 'compact_listing'},\n",
       "                              'type': 'input_form_suggestion',\n",
       "                              'value': '3rd listing'},\n",
       "                             {'listing': {'address': '2430 Victory Park Lane '\n",
       "                                                     'Unit 2301',\n",
       "                                          'baths': 1,\n",
       "                                          'beds': 1,\n",
       "                                          'close_date': None,\n",
       "                                          'close_price': None,\n",
       "                                          'id': '7e84d768-a814-11e5-8e1e-f23c91c841bd',\n",
       "                                          'mls': 'NTREIS',\n",
       "                                          'mls_number': '13291126',\n",
       "                                          'price': 399900,\n",
       "                                          'status': 'Active',\n",
       "                                          'type': 'compact_listing'},\n",
       "                              'type': 'input_form_suggestion',\n",
       "                              'value': '4th listing'},\n",
       "                             {'listing': {'address': '2430 Victory Park Lane '\n",
       "                                                     'Unit 1908',\n",
       "                                          'baths': 2.1,\n",
       "                                          'beds': 2,\n",
       "                                          'close_date': None,\n",
       "                                          'close_price': None,\n",
       "                                          'id': '58a718e4-9f54-11e5-a0f8-f23c91c841bd',\n",
       "                                          'mls': 'NTREIS',\n",
       "                                          'mls_number': '13286938',\n",
       "                                          'price': 999000,\n",
       "                                          'status': 'Active',\n",
       "                                          'type': 'compact_listing'},\n",
       "                              'type': 'input_form_suggestion',\n",
       "                              'value': '5th listing'}],\n",
       "             'title': 'Which one of the following listings do you want to use?',\n",
       "             'type': 'input_form_input'}],\n",
       " 'type': 'input_form'}\n",
       "</code></pre>\n",
       "</div>\n",
       "  <script data-bslib-card-init=\"\">window.bslib.Card.initializeAllCards();</script>\n",
       "</div>"
      ],
      "text/plain": [
       "<div class=\"card bslib-card bslib-mb-spacing card border-dark mb-3 html-fill-item html-fill-container\" data-bslib-card-init=\"\">\n",
       "  <div class=\"card-header\">\n",
       "    <div style=\"display: flex; justify-content: space-between;\">\n",
       "      <span style=\"font-weight: bold;\">FUNCTION RESULTS</span><span>(4/7)</span>\n",
       "    </div>\n",
       "  </div>\n",
       "  <div class=\"card-body bslib-gap-spacing html-fill-item html-fill-container\" style=\"margin-top:auto;margin-bottom:auto;flex:1 1 auto;\"><pre><code class=\"language-json\">{'id': 'ee152e0b-0de2-48ea-94e5-a14b8c0d5178',\n",
       " 'inputs': [{'required': False,\n",
       "             'suggestions': [{'listing': {'address': '2430 Victory Park Lane '\n",
       "                                                     'Unit 2508',\n",
       "                                          'baths': 2.1,\n",
       "                                          'beds': 2,\n",
       "                                          'close_date': None,\n",
       "                                          'close_price': None,\n",
       "                                          'id': '7ff2fad0-cc63-11e5-913f-f23c91c841bd',\n",
       "                                          'mls': 'NTREIS',\n",
       "                                          'mls_number': '13315265',\n",
       "                                          'price': 1350000,\n",
       "                                          'status': 'Active',\n",
       "                                          'type': 'compact_listing'},\n",
       "                              'type': 'input_form_suggestion',\n",
       "                              'value': '1st listing'},\n",
       "                             {'listing': {'address': '2430 Victory Park Lane '\n",
       "                                                     'Unit 2003',\n",
       "                                          'baths': 2,\n",
       "                                          'beds': 1,\n",
       "                                          'close_date': None,\n",
       "                                          'close_price': None,\n",
       "                                          'id': '33836686-d0db-11e5-b351-f23c91c841bd',\n",
       "                                          'mls': 'NTREIS',\n",
       "                                          'mls_number': '13317847',\n",
       "                                          'price': 770000,\n",
       "                                          'status': 'Active',\n",
       "                                          'type': 'compact_listing'},\n",
       "                              'type': 'input_form_suggestion',\n",
       "                              'value': '2nd listing'},\n",
       "                             {'listing': {'address': '2430 Victory Park Lane '\n",
       "                                                     'Unit 3001',\n",
       "                                          'baths': 7.3,\n",
       "                                          'beds': 5,\n",
       "                                          'close_date': None,\n",
       "                                          'close_price': None,\n",
       "                                          'id': 'cdaef89c-cb9a-11e5-b4c2-f23c91c841bd',\n",
       "                                          'mls': 'NTREIS',\n",
       "                                          'mls_number': '13314620',\n",
       "                                          'price': 7995000,\n",
       "                                          'status': 'Active',\n",
       "                                          'type': 'compact_listing'},\n",
       "                              'type': 'input_form_suggestion',\n",
       "                              'value': '3rd listing'},\n",
       "                             {'listing': {'address': '2430 Victory Park Lane '\n",
       "                                                     'Unit 2301',\n",
       "                                          'baths': 1,\n",
       "                                          'beds': 1,\n",
       "                                          'close_date': None,\n",
       "                                          'close_price': None,\n",
       "                                          'id': '7e84d768-a814-11e5-8e1e-f23c91c841bd',\n",
       "                                          'mls': 'NTREIS',\n",
       "                                          'mls_number': '13291126',\n",
       "                                          'price': 399900,\n",
       "                                          'status': 'Active',\n",
       "                                          'type': 'compact_listing'},\n",
       "                              'type': 'input_form_suggestion',\n",
       "                              'value': '4th listing'},\n",
       "                             {'listing': {'address': '2430 Victory Park Lane '\n",
       "                                                     'Unit 1908',\n",
       "                                          'baths': 2.1,\n",
       "                                          'beds': 2,\n",
       "                                          'close_date': None,\n",
       "                                          'close_price': None,\n",
       "                                          'id': '58a718e4-9f54-11e5-a0f8-f23c91c841bd',\n",
       "                                          'mls': 'NTREIS',\n",
       "                                          'mls_number': '13286938',\n",
       "                                          'price': 999000,\n",
       "                                          'status': 'Active',\n",
       "                                          'type': 'compact_listing'},\n",
       "                              'type': 'input_form_suggestion',\n",
       "                              'value': '5th listing'}],\n",
       "             'title': 'Which one of the following listings do you want to use?',\n",
       "             'type': 'input_form_input'}],\n",
       " 'type': 'input_form'}\n",
       "</code></pre>\n",
       "</div>\n",
       "  <script data-bslib-card-init=\"\">window.bslib.Card.initializeAllCards();</script>\n",
       "</div>"
      ]
     },
     "execution_count": null,
     "metadata": {},
     "output_type": "execute_result"
    }
   ],
   "source": [
    "_rendered_inp.children[3]"
   ]
  },
  {
   "cell_type": "code",
   "execution_count": null,
   "id": "2bb77f62-5b71-4850-b9c4-adcf11c343cf",
   "metadata": {},
   "outputs": [],
   "source": [
    "assert len(_rendered_inp.children) == len(_run.inputs)"
   ]
  },
  {
   "cell_type": "code",
   "execution_count": null,
   "id": "27668337-b353-4f8d-b83e-b5396ae49f2d",
   "metadata": {},
   "outputs": [],
   "source": [
    "#|export\n",
    "def render_funcs(run:RunData, markdown=True):\n",
    "    \"Render functions as a group of cards.\"\n",
    "    cards = []\n",
    "    if run.funcs:\n",
    "        num_inputs = len(run.funcs)\n",
    "        for i,m in enumerate(run.funcs):\n",
    "            nm = m.get('name', '')\n",
    "            desc = m.get('description', '')\n",
    "            content = json.dumps(m.get('parameters', ''), indent=4)\n",
    "            cards.append(\n",
    "                ui.card(\n",
    "                    ui.card_header(ui.div({\"style\": \"display: flex; justify-content: space-between;\"},\n",
    "                                        ui.span(\n",
    "                                            {\"style\": \"font-weight: bold;\"}, \n",
    "                                            nm,\n",
    "                                        ),\n",
    "                                        ui.span(f'({i+1}/{num_inputs})'),\n",
    "                                    )       \n",
    "                    ),\n",
    "                    x.ui.card_body(\n",
    "                        ui.strong(f'Description: {desc}'),\n",
    "                        ui.markdown(content) if markdown else content\n",
    "                    ),\n",
    "                    class_= \"card border-dark mb-3\"\n",
    "                )\n",
    "            )\n",
    "    return ui.div(*cards)"
   ]
  },
  {
   "cell_type": "markdown",
   "id": "6eb8bfdd-424e-4257-97e4-dc2be60be2bd",
   "metadata": {},
   "source": [
    "Similar to `render_input`, `render_funcs` will take an instance of `RunData` and render a set of Shiny cards, with each card containing a function definition that was passed to OpenAI via the [Function Calling API](https://platform.openai.com/docs/guides/gpt/function-calling):"
   ]
  },
  {
   "cell_type": "code",
   "execution_count": null,
   "id": "f89c46e0-83f6-4930-befa-b900e8d9b96f",
   "metadata": {},
   "outputs": [],
   "source": [
    "_rendered_func = render_funcs(_run)\n",
    "assert len(_run.funcs) == len(_rendered_func.children)"
   ]
  },
  {
   "cell_type": "markdown",
   "id": "98940744-c79f-41f5-b79c-4bfbe0012c0a",
   "metadata": {},
   "source": [
    "This is one of the functions:"
   ]
  },
  {
   "cell_type": "code",
   "execution_count": null,
   "id": "287e01b6-5d9a-4390-8a59-7cdce17c61b9",
   "metadata": {},
   "outputs": [
    {
     "data": {
      "text/html": [
       "<div class=\"card bslib-card bslib-mb-spacing card border-dark mb-3 html-fill-item html-fill-container\" data-bslib-card-init=\"\">\n",
       "  <div class=\"card-header\">\n",
       "    <div style=\"display: flex; justify-content: space-between;\">\n",
       "      <span style=\"font-weight: bold;\">human-chat</span><span>(3/5)</span>\n",
       "    </div>\n",
       "  </div>\n",
       "  <div class=\"card-body bslib-gap-spacing html-fill-item html-fill-container\" style=\"margin-top:auto;margin-bottom:auto;flex:1 1 auto;\">\n",
       "    <strong>Description: You can ask a human for guidance when you think you got stuck or you are not sure what to do next. You can also ask him to clarify something or let user you dont know the answer to his request. You can also chat and hold a conversation with the human. Respond to their basic questions. You can also ask human generic questions. The input should be a question for the human.</strong><p>{\n",
       "&quot;type&quot;: &quot;object&quot;,\n",
       "&quot;$schema&quot;: &quot;<a href=\"http://json-schema.org/draft-07/schema#\">http://json-schema.org/draft-07/schema#</a>&quot;,\n",
       "&quot;properties&quot;: {\n",
       "&quot;input&quot;: {\n",
       "&quot;type&quot;: &quot;string&quot;\n",
       "}\n",
       "},\n",
       "&quot;additionalProperties&quot;: false\n",
       "}</p>\n",
       "\n",
       "  </div>\n",
       "  <script data-bslib-card-init=\"\">window.bslib.Card.initializeAllCards();</script>\n",
       "</div>"
      ],
      "text/plain": [
       "<div class=\"card bslib-card bslib-mb-spacing card border-dark mb-3 html-fill-item html-fill-container\" data-bslib-card-init=\"\">\n",
       "  <div class=\"card-header\">\n",
       "    <div style=\"display: flex; justify-content: space-between;\">\n",
       "      <span style=\"font-weight: bold;\">human-chat</span><span>(3/5)</span>\n",
       "    </div>\n",
       "  </div>\n",
       "  <div class=\"card-body bslib-gap-spacing html-fill-item html-fill-container\" style=\"margin-top:auto;margin-bottom:auto;flex:1 1 auto;\">\n",
       "    <strong>Description: You can ask a human for guidance when you think you got stuck or you are not sure what to do next. You can also ask him to clarify something or let user you dont know the answer to his request. You can also chat and hold a conversation with the human. Respond to their basic questions. You can also ask human generic questions. The input should be a question for the human.</strong><p>{\n",
       "&quot;type&quot;: &quot;object&quot;,\n",
       "&quot;$schema&quot;: &quot;<a href=\"http://json-schema.org/draft-07/schema#\">http://json-schema.org/draft-07/schema#</a>&quot;,\n",
       "&quot;properties&quot;: {\n",
       "&quot;input&quot;: {\n",
       "&quot;type&quot;: &quot;string&quot;\n",
       "}\n",
       "},\n",
       "&quot;additionalProperties&quot;: false\n",
       "}</p>\n",
       "\n",
       "  </div>\n",
       "  <script data-bslib-card-init=\"\">window.bslib.Card.initializeAllCards();</script>\n",
       "</div>"
      ]
     },
     "execution_count": null,
     "metadata": {},
     "output_type": "execute_result"
    }
   ],
   "source": [
    "_rendered_func.children[2]"
   ]
  },
  {
   "cell_type": "markdown",
   "id": "33126ccd-1c5c-480b-b275-7ac2fb2a2479",
   "metadata": {},
   "source": [
    "Here is another function:"
   ]
  },
  {
   "cell_type": "code",
   "execution_count": null,
   "id": "90b23528-6a92-43cc-997e-a04abd057d7d",
   "metadata": {},
   "outputs": [
    {
     "data": {
      "text/html": [
       "<div class=\"card bslib-card bslib-mb-spacing card border-dark mb-3 html-fill-item html-fill-container\" data-bslib-card-init=\"\">\n",
       "  <div class=\"card-header\">\n",
       "    <div style=\"display: flex; justify-content: space-between;\">\n",
       "      <span style=\"font-weight: bold;\">calculator</span><span>(4/5)</span>\n",
       "    </div>\n",
       "  </div>\n",
       "  <div class=\"card-body bslib-gap-spacing html-fill-item html-fill-container\" style=\"margin-top:auto;margin-bottom:auto;flex:1 1 auto;\">\n",
       "    <strong>Description: Useful for getting the result of a math expression. The input to this tool should be a valid mathematical expression that could be executed by a simple calculator.</strong><p>{\n",
       "&quot;type&quot;: &quot;object&quot;,\n",
       "&quot;$schema&quot;: &quot;<a href=\"http://json-schema.org/draft-07/schema#\">http://json-schema.org/draft-07/schema#</a>&quot;,\n",
       "&quot;properties&quot;: {\n",
       "&quot;input&quot;: {\n",
       "&quot;type&quot;: &quot;string&quot;\n",
       "}\n",
       "},\n",
       "&quot;additionalProperties&quot;: false\n",
       "}</p>\n",
       "\n",
       "  </div>\n",
       "  <script data-bslib-card-init=\"\">window.bslib.Card.initializeAllCards();</script>\n",
       "</div>"
      ],
      "text/plain": [
       "<div class=\"card bslib-card bslib-mb-spacing card border-dark mb-3 html-fill-item html-fill-container\" data-bslib-card-init=\"\">\n",
       "  <div class=\"card-header\">\n",
       "    <div style=\"display: flex; justify-content: space-between;\">\n",
       "      <span style=\"font-weight: bold;\">calculator</span><span>(4/5)</span>\n",
       "    </div>\n",
       "  </div>\n",
       "  <div class=\"card-body bslib-gap-spacing html-fill-item html-fill-container\" style=\"margin-top:auto;margin-bottom:auto;flex:1 1 auto;\">\n",
       "    <strong>Description: Useful for getting the result of a math expression. The input to this tool should be a valid mathematical expression that could be executed by a simple calculator.</strong><p>{\n",
       "&quot;type&quot;: &quot;object&quot;,\n",
       "&quot;$schema&quot;: &quot;<a href=\"http://json-schema.org/draft-07/schema#\">http://json-schema.org/draft-07/schema#</a>&quot;,\n",
       "&quot;properties&quot;: {\n",
       "&quot;input&quot;: {\n",
       "&quot;type&quot;: &quot;string&quot;\n",
       "}\n",
       "},\n",
       "&quot;additionalProperties&quot;: false\n",
       "}</p>\n",
       "\n",
       "  </div>\n",
       "  <script data-bslib-card-init=\"\">window.bslib.Card.initializeAllCards();</script>\n",
       "</div>"
      ]
     },
     "execution_count": null,
     "metadata": {},
     "output_type": "execute_result"
    }
   ],
   "source": [
    "_rendered_func.children[3]"
   ]
  },
  {
   "cell_type": "code",
   "execution_count": null,
   "id": "8452f09f-9b5a-4b73-916a-8ac8ac7f1e42",
   "metadata": {},
   "outputs": [],
   "source": [
    "#|export\n",
    "def render_llm_output(run, width=\"100%\", height=\"250px\"):\n",
    "    \"Render the LLM output as an editable text box.\"\n",
    "    o = run.output\n",
    "    return ui.input_text_area('llm_output', label=ui.h3('LLM Output (Editable)'), \n",
    "                              value=o['content'], width=width, height=height)"
   ]
  },
  {
   "cell_type": "markdown",
   "id": "5e216885-b011-4c97-8121-e8247b4ef587",
   "metadata": {},
   "source": [
    "Below is a demonstration of using `render_llm_output` to produce an editable text box component.  The goal is to allow the user to edit the output for fine tuning to correct errors."
   ]
  },
  {
   "cell_type": "code",
   "execution_count": null,
   "id": "81367c89-b457-4465-b611-1b5555365002",
   "metadata": {},
   "outputs": [
    {
     "data": {
      "text/html": [
       "<div class=\"shiny-input-textarea form-group shiny-input-container\" style=\"width:100%;\">\n",
       "  <label class=\"control-label\" id=\"llm_output-label\" for=\"llm_output\">    <h3>LLM Output (Editable)</h3></label><textarea id=\"llm_output\" class=\"form-control\" style=\"height:250px;\">Currently, LangSmith does not support project migration between organizations. However, you can manually imitate this process by reading and writing runs and datasets using the SDK. Here's an example of exporting runs:\n",
       "\n",
       "1. Read the runs from the source organization using the SDK.\n",
       "2. Write the runs to the destination organization using the SDK.\n",
       "\n",
       "By following this process, you can transfer your runs from one organization to another. However, it may be faster to create a new project within your destination organization and start fresh.\n",
       "\n",
       "If you have any further questions or need assistance, please reach out to us at support@langchain.dev.</textarea>\n",
       "</div>"
      ],
      "text/plain": [
       "<div class=\"shiny-input-textarea form-group shiny-input-container\" style=\"width:100%;\">\n",
       "  <label class=\"control-label\" id=\"llm_output-label\" for=\"llm_output\">    <h3>LLM Output (Editable)</h3></label><textarea id=\"llm_output\" class=\"form-control\" style=\"height:250px;\">Currently, LangSmith does not support project migration between organizations. However, you can manually imitate this process by reading and writing runs and datasets using the SDK. Here's an example of exporting runs:\n",
       "\n",
       "1. Read the runs from the source organization using the SDK.\n",
       "2. Write the runs to the destination organization using the SDK.\n",
       "\n",
       "By following this process, you can transfer your runs from one organization to another. However, it may be faster to create a new project within your destination organization and start fresh.\n",
       "\n",
       "If you have any further questions or need assistance, please reach out to us at support@langchain.dev.</textarea>\n",
       "</div>"
      ]
     },
     "execution_count": null,
     "metadata": {},
     "output_type": "execute_result"
    }
   ],
   "source": [
    "render_llm_output(_tst_run)"
   ]
  },
  {
   "cell_type": "code",
   "execution_count": null,
   "id": "8c935378-4b41-4aab-801d-c66b0a11eff1",
   "metadata": {},
   "outputs": [],
   "source": [
    "#|hide\n",
    "_rendered_out = render_llm_output(_run)\n",
    "assert _rendered_out.children[1].children[0] == _run.output['content']"
   ]
  },
  {
   "cell_type": "code",
   "execution_count": null,
   "id": "d41f4308-67d0-4643-9a38-dcdffb100489",
   "metadata": {},
   "outputs": [],
   "source": [
    "#|export\n",
    "def invoke_later(delaySecs:int, callback:callable):\n",
    "    \"Execute code in a shiny app with a time delay of `delaySecs` asynchronously.\"\n",
    "    async def delay_task():\n",
    "        await asyncio.sleep(delaySecs)\n",
    "        async with reactive.lock():\n",
    "            callback()\n",
    "            await reactive.flush()\n",
    "    asyncio.create_task(delay_task())"
   ]
  },
  {
   "cell_type": "raw",
   "id": "adcac37f-9484-4968-882a-0d670165023b",
   "metadata": {},
   "source": []
  }
 ],
 "metadata": {
  "kernelspec": {
   "display_name": "python3",
   "language": "python",
   "name": "python3"
  }
 },
 "nbformat": 4,
 "nbformat_minor": 5
}
